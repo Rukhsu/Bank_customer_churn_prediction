{
 "cells": [
  {
   "cell_type": "code",
   "execution_count": 1,
   "id": "c4a1796f",
   "metadata": {
    "_cell_guid": "b1076dfc-b9ad-4769-8c92-a6c4dae69d19",
    "_uuid": "8f2839f25d086af736a60e9eeb907d3b93b6e0e5",
    "execution": {
     "iopub.execute_input": "2025-04-30T08:40:58.394123Z",
     "iopub.status.busy": "2025-04-30T08:40:58.393916Z",
     "iopub.status.idle": "2025-04-30T08:40:59.808467Z",
     "shell.execute_reply": "2025-04-30T08:40:59.807392Z"
    },
    "papermill": {
     "duration": 1.422833,
     "end_time": "2025-04-30T08:40:59.810226",
     "exception": false,
     "start_time": "2025-04-30T08:40:58.387393",
     "status": "completed"
    },
    "tags": []
   },
   "outputs": [
    {
     "name": "stdout",
     "output_type": "stream",
     "text": [
      "/kaggle/input/binaryclassificationwithabankchurndataset/sample_submission.csv\n",
      "/kaggle/input/binaryclassificationwithabankchurndataset/train.csv\n",
      "/kaggle/input/binaryclassificationwithabankchurndataset/test.csv\n"
     ]
    }
   ],
   "source": [
    "# This Python 3 environment comes with many helpful analytics libraries installed\n",
    "# It is defined by the kaggle/python Docker image: https://github.com/kaggle/docker-python\n",
    "# For example, here's several helpful packages to load\n",
    "\n",
    "import numpy as np # linear algebra\n",
    "import pandas as pd # data processing, CSV file I/O (e.g. pd.read_csv)\n",
    "\n",
    "# Input data files are available in the read-only \"../input/\" directory\n",
    "# For example, running this (by clicking run or pressing Shift+Enter) will list all files under the input directory\n",
    "\n",
    "import os\n",
    "for dirname, _, filenames in os.walk('/kaggle/input'):\n",
    "    for filename in filenames:\n",
    "        print(os.path.join(dirname, filename))\n",
    "\n",
    "# You can write up to 20GB to the current directory (/kaggle/working/) that gets preserved as output when you create a version using \"Save & Run All\" \n",
    "# You can also write temporary files to /kaggle/temp/, but they won't be saved outside of the current session"
   ]
  },
  {
   "cell_type": "markdown",
   "id": "b9b1c7bd",
   "metadata": {
    "papermill": {
     "duration": 0.005509,
     "end_time": "2025-04-30T08:40:59.822240",
     "exception": false,
     "start_time": "2025-04-30T08:40:59.816731",
     "status": "completed"
    },
    "tags": []
   },
   "source": [
    "# Imports and setups"
   ]
  },
  {
   "cell_type": "code",
   "execution_count": 2,
   "id": "4607937b",
   "metadata": {
    "execution": {
     "iopub.execute_input": "2025-04-30T08:40:59.836371Z",
     "iopub.status.busy": "2025-04-30T08:40:59.836041Z",
     "iopub.status.idle": "2025-04-30T08:41:03.655254Z",
     "shell.execute_reply": "2025-04-30T08:41:03.654414Z"
    },
    "papermill": {
     "duration": 3.826856,
     "end_time": "2025-04-30T08:41:03.657328",
     "exception": false,
     "start_time": "2025-04-30T08:40:59.830472",
     "status": "completed"
    },
    "tags": []
   },
   "outputs": [
    {
     "name": "stdout",
     "output_type": "stream",
     "text": [
      "Requirement already satisfied: catboost in /usr/local/lib/python3.11/dist-packages (1.2.7)\r\n",
      "Requirement already satisfied: graphviz in /usr/local/lib/python3.11/dist-packages (from catboost) (0.20.3)\r\n",
      "Requirement already satisfied: matplotlib in /usr/local/lib/python3.11/dist-packages (from catboost) (3.7.5)\r\n",
      "Requirement already satisfied: numpy<2.0,>=1.16.0 in /usr/local/lib/python3.11/dist-packages (from catboost) (1.26.4)\r\n",
      "Requirement already satisfied: pandas>=0.24 in /usr/local/lib/python3.11/dist-packages (from catboost) (2.2.3)\r\n",
      "Requirement already satisfied: scipy in /usr/local/lib/python3.11/dist-packages (from catboost) (1.15.2)\r\n",
      "Requirement already satisfied: plotly in /usr/local/lib/python3.11/dist-packages (from catboost) (5.24.1)\r\n",
      "Requirement already satisfied: six in /usr/local/lib/python3.11/dist-packages (from catboost) (1.17.0)\r\n",
      "Requirement already satisfied: mkl_fft in /usr/local/lib/python3.11/dist-packages (from numpy<2.0,>=1.16.0->catboost) (1.3.8)\r\n",
      "Requirement already satisfied: mkl_random in /usr/local/lib/python3.11/dist-packages (from numpy<2.0,>=1.16.0->catboost) (1.2.4)\r\n",
      "Requirement already satisfied: mkl_umath in /usr/local/lib/python3.11/dist-packages (from numpy<2.0,>=1.16.0->catboost) (0.1.1)\r\n",
      "Requirement already satisfied: mkl in /usr/local/lib/python3.11/dist-packages (from numpy<2.0,>=1.16.0->catboost) (2025.1.0)\r\n",
      "Requirement already satisfied: tbb4py in /usr/local/lib/python3.11/dist-packages (from numpy<2.0,>=1.16.0->catboost) (2022.1.0)\r\n",
      "Requirement already satisfied: mkl-service in /usr/local/lib/python3.11/dist-packages (from numpy<2.0,>=1.16.0->catboost) (2.4.1)\r\n",
      "Requirement already satisfied: python-dateutil>=2.8.2 in /usr/local/lib/python3.11/dist-packages (from pandas>=0.24->catboost) (2.9.0.post0)\r\n",
      "Requirement already satisfied: pytz>=2020.1 in /usr/local/lib/python3.11/dist-packages (from pandas>=0.24->catboost) (2025.2)\r\n",
      "Requirement already satisfied: tzdata>=2022.7 in /usr/local/lib/python3.11/dist-packages (from pandas>=0.24->catboost) (2025.2)\r\n",
      "Requirement already satisfied: contourpy>=1.0.1 in /usr/local/lib/python3.11/dist-packages (from matplotlib->catboost) (1.3.1)\r\n",
      "Requirement already satisfied: cycler>=0.10 in /usr/local/lib/python3.11/dist-packages (from matplotlib->catboost) (0.12.1)\r\n",
      "Requirement already satisfied: fonttools>=4.22.0 in /usr/local/lib/python3.11/dist-packages (from matplotlib->catboost) (4.56.0)\r\n",
      "Requirement already satisfied: kiwisolver>=1.0.1 in /usr/local/lib/python3.11/dist-packages (from matplotlib->catboost) (1.4.8)\r\n",
      "Requirement already satisfied: packaging>=20.0 in /usr/local/lib/python3.11/dist-packages (from matplotlib->catboost) (24.2)\r\n",
      "Requirement already satisfied: pillow>=6.2.0 in /usr/local/lib/python3.11/dist-packages (from matplotlib->catboost) (11.1.0)\r\n",
      "Requirement already satisfied: pyparsing>=2.3.1 in /usr/local/lib/python3.11/dist-packages (from matplotlib->catboost) (3.2.1)\r\n",
      "Requirement already satisfied: tenacity>=6.2.0 in /usr/local/lib/python3.11/dist-packages (from plotly->catboost) (9.0.0)\r\n",
      "Requirement already satisfied: intel-openmp<2026,>=2024 in /usr/local/lib/python3.11/dist-packages (from mkl->numpy<2.0,>=1.16.0->catboost) (2024.2.0)\r\n",
      "Requirement already satisfied: tbb==2022.* in /usr/local/lib/python3.11/dist-packages (from mkl->numpy<2.0,>=1.16.0->catboost) (2022.1.0)\r\n",
      "Requirement already satisfied: tcmlib==1.* in /usr/local/lib/python3.11/dist-packages (from tbb==2022.*->mkl->numpy<2.0,>=1.16.0->catboost) (1.2.0)\r\n",
      "Requirement already satisfied: intel-cmplr-lib-rt in /usr/local/lib/python3.11/dist-packages (from mkl_umath->numpy<2.0,>=1.16.0->catboost) (2024.2.0)\r\n",
      "Requirement already satisfied: intel-cmplr-lib-ur==2024.2.0 in /usr/local/lib/python3.11/dist-packages (from intel-openmp<2026,>=2024->mkl->numpy<2.0,>=1.16.0->catboost) (2024.2.0)\r\n"
     ]
    }
   ],
   "source": [
    "!pip install catboost"
   ]
  },
  {
   "cell_type": "code",
   "execution_count": 3,
   "id": "f3b078bf",
   "metadata": {
    "execution": {
     "iopub.execute_input": "2025-04-30T08:41:03.668848Z",
     "iopub.status.busy": "2025-04-30T08:41:03.668576Z",
     "iopub.status.idle": "2025-04-30T08:41:05.882597Z",
     "shell.execute_reply": "2025-04-30T08:41:05.881995Z"
    },
    "papermill": {
     "duration": 2.221192,
     "end_time": "2025-04-30T08:41:05.884004",
     "exception": false,
     "start_time": "2025-04-30T08:41:03.662812",
     "status": "completed"
    },
    "tags": []
   },
   "outputs": [],
   "source": [
    "from catboost import CatBoostClassifier\n",
    "import pandas as pd\n",
    "import numpy as np\n",
    "from sklearn.model_selection import train_test_split, GridSearchCV\n",
    "from sklearn.metrics import accuracy_score, confusion_matrix, classification_report, roc_auc_score, roc_curve\n",
    "from sklearn import metrics\n",
    "import matplotlib.pyplot as plt\n",
    "import seaborn as sns"
   ]
  },
  {
   "cell_type": "markdown",
   "id": "960cf975",
   "metadata": {
    "papermill": {
     "duration": 0.004834,
     "end_time": "2025-04-30T08:41:05.894409",
     "exception": false,
     "start_time": "2025-04-30T08:41:05.889575",
     "status": "completed"
    },
    "tags": []
   },
   "source": [
    "# Data Exploration and Loading"
   ]
  },
  {
   "cell_type": "code",
   "execution_count": 4,
   "id": "b3f47996",
   "metadata": {
    "execution": {
     "iopub.execute_input": "2025-04-30T08:41:05.905372Z",
     "iopub.status.busy": "2025-04-30T08:41:05.904812Z",
     "iopub.status.idle": "2025-04-30T08:41:05.975572Z",
     "shell.execute_reply": "2025-04-30T08:41:05.974879Z"
    },
    "papermill": {
     "duration": 0.077309,
     "end_time": "2025-04-30T08:41:05.976678",
     "exception": false,
     "start_time": "2025-04-30T08:41:05.899369",
     "status": "completed"
    },
    "tags": []
   },
   "outputs": [
    {
     "data": {
      "text/html": [
       "<div>\n",
       "<style scoped>\n",
       "    .dataframe tbody tr th:only-of-type {\n",
       "        vertical-align: middle;\n",
       "    }\n",
       "\n",
       "    .dataframe tbody tr th {\n",
       "        vertical-align: top;\n",
       "    }\n",
       "\n",
       "    .dataframe thead th {\n",
       "        text-align: right;\n",
       "    }\n",
       "</style>\n",
       "<table border=\"1\" class=\"dataframe\">\n",
       "  <thead>\n",
       "    <tr style=\"text-align: right;\">\n",
       "      <th></th>\n",
       "      <th>id</th>\n",
       "      <th>CustomerId</th>\n",
       "      <th>Surname</th>\n",
       "      <th>CreditScore</th>\n",
       "      <th>Geography</th>\n",
       "      <th>Gender</th>\n",
       "      <th>Age</th>\n",
       "      <th>Tenure</th>\n",
       "      <th>Balance</th>\n",
       "      <th>NumOfProducts</th>\n",
       "      <th>HasCrCard</th>\n",
       "      <th>IsActiveMember</th>\n",
       "      <th>EstimatedSalary</th>\n",
       "      <th>Exited</th>\n",
       "    </tr>\n",
       "  </thead>\n",
       "  <tbody>\n",
       "    <tr>\n",
       "      <th>0</th>\n",
       "      <td>0</td>\n",
       "      <td>15702656.0</td>\n",
       "      <td>Nwora</td>\n",
       "      <td>567.0</td>\n",
       "      <td>France</td>\n",
       "      <td>Male</td>\n",
       "      <td>33.0</td>\n",
       "      <td>9.0</td>\n",
       "      <td>0.0</td>\n",
       "      <td>2.0</td>\n",
       "      <td>1.0</td>\n",
       "      <td>0.0</td>\n",
       "      <td>156792.89</td>\n",
       "      <td>0.0</td>\n",
       "    </tr>\n",
       "    <tr>\n",
       "      <th>1</th>\n",
       "      <td>1</td>\n",
       "      <td>15647965.0</td>\n",
       "      <td>Yevdokimova</td>\n",
       "      <td>628.0</td>\n",
       "      <td>France</td>\n",
       "      <td>Female</td>\n",
       "      <td>38.0</td>\n",
       "      <td>3.0</td>\n",
       "      <td>0.0</td>\n",
       "      <td>1.0</td>\n",
       "      <td>1.0</td>\n",
       "      <td>1.0</td>\n",
       "      <td>51987.99</td>\n",
       "      <td>1.0</td>\n",
       "    </tr>\n",
       "    <tr>\n",
       "      <th>2</th>\n",
       "      <td>2</td>\n",
       "      <td>15798834.0</td>\n",
       "      <td>Ch'iu</td>\n",
       "      <td>635.0</td>\n",
       "      <td>France</td>\n",
       "      <td>Female</td>\n",
       "      <td>29.0</td>\n",
       "      <td>3.0</td>\n",
       "      <td>0.0</td>\n",
       "      <td>2.0</td>\n",
       "      <td>1.0</td>\n",
       "      <td>1.0</td>\n",
       "      <td>113079.19</td>\n",
       "      <td>0.0</td>\n",
       "    </tr>\n",
       "    <tr>\n",
       "      <th>3</th>\n",
       "      <td>3</td>\n",
       "      <td>15672056.0</td>\n",
       "      <td>Hsia</td>\n",
       "      <td>681.0</td>\n",
       "      <td>France</td>\n",
       "      <td>Male</td>\n",
       "      <td>28.0</td>\n",
       "      <td>6.0</td>\n",
       "      <td>0.0</td>\n",
       "      <td>2.0</td>\n",
       "      <td>1.0</td>\n",
       "      <td>0.0</td>\n",
       "      <td>14081.64</td>\n",
       "      <td>0.0</td>\n",
       "    </tr>\n",
       "    <tr>\n",
       "      <th>4</th>\n",
       "      <td>4</td>\n",
       "      <td>15759537.0</td>\n",
       "      <td>Okwudilichukwu</td>\n",
       "      <td>587.0</td>\n",
       "      <td>France</td>\n",
       "      <td>Female</td>\n",
       "      <td>27.0</td>\n",
       "      <td>5.0</td>\n",
       "      <td>0.0</td>\n",
       "      <td>2.0</td>\n",
       "      <td>1.0</td>\n",
       "      <td>0.0</td>\n",
       "      <td>158958.90</td>\n",
       "      <td>0.0</td>\n",
       "    </tr>\n",
       "  </tbody>\n",
       "</table>\n",
       "</div>"
      ],
      "text/plain": [
       "   id  CustomerId         Surname  CreditScore Geography  Gender   Age  \\\n",
       "0   0  15702656.0           Nwora        567.0    France    Male  33.0   \n",
       "1   1  15647965.0     Yevdokimova        628.0    France  Female  38.0   \n",
       "2   2  15798834.0           Ch'iu        635.0    France  Female  29.0   \n",
       "3   3  15672056.0            Hsia        681.0    France    Male  28.0   \n",
       "4   4  15759537.0  Okwudilichukwu        587.0    France  Female  27.0   \n",
       "\n",
       "   Tenure  Balance  NumOfProducts  HasCrCard  IsActiveMember  EstimatedSalary  \\\n",
       "0     9.0      0.0            2.0        1.0             0.0        156792.89   \n",
       "1     3.0      0.0            1.0        1.0             1.0         51987.99   \n",
       "2     3.0      0.0            2.0        1.0             1.0        113079.19   \n",
       "3     6.0      0.0            2.0        1.0             0.0         14081.64   \n",
       "4     5.0      0.0            2.0        1.0             0.0        158958.90   \n",
       "\n",
       "   Exited  \n",
       "0     0.0  \n",
       "1     1.0  \n",
       "2     0.0  \n",
       "3     0.0  \n",
       "4     0.0  "
      ]
     },
     "execution_count": 4,
     "metadata": {},
     "output_type": "execute_result"
    }
   ],
   "source": [
    "df = pd.read_csv('/kaggle/input/binaryclassificationwithabankchurndataset/train.csv')\n",
    "df.head()"
   ]
  },
  {
   "cell_type": "code",
   "execution_count": 5,
   "id": "caabaee3",
   "metadata": {
    "execution": {
     "iopub.execute_input": "2025-04-30T08:41:05.988165Z",
     "iopub.status.busy": "2025-04-30T08:41:05.987939Z",
     "iopub.status.idle": "2025-04-30T08:41:05.992264Z",
     "shell.execute_reply": "2025-04-30T08:41:05.991703Z"
    },
    "papermill": {
     "duration": 0.011362,
     "end_time": "2025-04-30T08:41:05.993258",
     "exception": false,
     "start_time": "2025-04-30T08:41:05.981896",
     "status": "completed"
    },
    "tags": []
   },
   "outputs": [
    {
     "data": {
      "text/plain": [
       "(15000, 14)"
      ]
     },
     "execution_count": 5,
     "metadata": {},
     "output_type": "execute_result"
    }
   ],
   "source": [
    "df.shape"
   ]
  },
  {
   "cell_type": "code",
   "execution_count": 6,
   "id": "084991ba",
   "metadata": {
    "execution": {
     "iopub.execute_input": "2025-04-30T08:41:06.004523Z",
     "iopub.status.busy": "2025-04-30T08:41:06.004135Z",
     "iopub.status.idle": "2025-04-30T08:41:06.025183Z",
     "shell.execute_reply": "2025-04-30T08:41:06.024189Z"
    },
    "papermill": {
     "duration": 0.027994,
     "end_time": "2025-04-30T08:41:06.026577",
     "exception": false,
     "start_time": "2025-04-30T08:41:05.998583",
     "status": "completed"
    },
    "tags": []
   },
   "outputs": [
    {
     "name": "stdout",
     "output_type": "stream",
     "text": [
      "<class 'pandas.core.frame.DataFrame'>\n",
      "RangeIndex: 15000 entries, 0 to 14999\n",
      "Data columns (total 14 columns):\n",
      " #   Column           Non-Null Count  Dtype  \n",
      "---  ------           --------------  -----  \n",
      " 0   id               15000 non-null  int64  \n",
      " 1   CustomerId       15000 non-null  float64\n",
      " 2   Surname          15000 non-null  object \n",
      " 3   CreditScore      15000 non-null  float64\n",
      " 4   Geography        15000 non-null  object \n",
      " 5   Gender           15000 non-null  object \n",
      " 6   Age              15000 non-null  float64\n",
      " 7   Tenure           15000 non-null  float64\n",
      " 8   Balance          15000 non-null  float64\n",
      " 9   NumOfProducts    15000 non-null  float64\n",
      " 10  HasCrCard        15000 non-null  float64\n",
      " 11  IsActiveMember   15000 non-null  float64\n",
      " 12  EstimatedSalary  15000 non-null  float64\n",
      " 13  Exited           15000 non-null  float64\n",
      "dtypes: float64(10), int64(1), object(3)\n",
      "memory usage: 1.6+ MB\n"
     ]
    }
   ],
   "source": [
    "df.info()\n"
   ]
  },
  {
   "cell_type": "code",
   "execution_count": 7,
   "id": "8e6cab11",
   "metadata": {
    "execution": {
     "iopub.execute_input": "2025-04-30T08:41:06.038105Z",
     "iopub.status.busy": "2025-04-30T08:41:06.037900Z",
     "iopub.status.idle": "2025-04-30T08:41:06.072846Z",
     "shell.execute_reply": "2025-04-30T08:41:06.072268Z"
    },
    "papermill": {
     "duration": 0.041864,
     "end_time": "2025-04-30T08:41:06.073899",
     "exception": false,
     "start_time": "2025-04-30T08:41:06.032035",
     "status": "completed"
    },
    "tags": []
   },
   "outputs": [
    {
     "data": {
      "text/html": [
       "<div>\n",
       "<style scoped>\n",
       "    .dataframe tbody tr th:only-of-type {\n",
       "        vertical-align: middle;\n",
       "    }\n",
       "\n",
       "    .dataframe tbody tr th {\n",
       "        vertical-align: top;\n",
       "    }\n",
       "\n",
       "    .dataframe thead th {\n",
       "        text-align: right;\n",
       "    }\n",
       "</style>\n",
       "<table border=\"1\" class=\"dataframe\">\n",
       "  <thead>\n",
       "    <tr style=\"text-align: right;\">\n",
       "      <th></th>\n",
       "      <th>id</th>\n",
       "      <th>CustomerId</th>\n",
       "      <th>CreditScore</th>\n",
       "      <th>Age</th>\n",
       "      <th>Tenure</th>\n",
       "      <th>Balance</th>\n",
       "      <th>NumOfProducts</th>\n",
       "      <th>HasCrCard</th>\n",
       "      <th>IsActiveMember</th>\n",
       "      <th>EstimatedSalary</th>\n",
       "      <th>Exited</th>\n",
       "    </tr>\n",
       "  </thead>\n",
       "  <tbody>\n",
       "    <tr>\n",
       "      <th>count</th>\n",
       "      <td>15000.000000</td>\n",
       "      <td>1.500000e+04</td>\n",
       "      <td>15000.000000</td>\n",
       "      <td>15000.000000</td>\n",
       "      <td>15000.000000</td>\n",
       "      <td>15000.000000</td>\n",
       "      <td>15000.000000</td>\n",
       "      <td>15000.000000</td>\n",
       "      <td>15000.000000</td>\n",
       "      <td>15000.000000</td>\n",
       "      <td>15000.000000</td>\n",
       "    </tr>\n",
       "    <tr>\n",
       "      <th>mean</th>\n",
       "      <td>7499.500000</td>\n",
       "      <td>1.579454e+07</td>\n",
       "      <td>657.856800</td>\n",
       "      <td>37.710133</td>\n",
       "      <td>5.018667</td>\n",
       "      <td>42338.107539</td>\n",
       "      <td>1.590533</td>\n",
       "      <td>0.779133</td>\n",
       "      <td>0.496000</td>\n",
       "      <td>116944.059867</td>\n",
       "      <td>0.198467</td>\n",
       "    </tr>\n",
       "    <tr>\n",
       "      <th>std</th>\n",
       "      <td>4330.271354</td>\n",
       "      <td>1.268495e+07</td>\n",
       "      <td>72.678739</td>\n",
       "      <td>8.144880</td>\n",
       "      <td>2.787407</td>\n",
       "      <td>59703.047751</td>\n",
       "      <td>0.525822</td>\n",
       "      <td>0.414845</td>\n",
       "      <td>0.500001</td>\n",
       "      <td>46047.485455</td>\n",
       "      <td>0.398859</td>\n",
       "    </tr>\n",
       "    <tr>\n",
       "      <th>min</th>\n",
       "      <td>0.000000</td>\n",
       "      <td>1.567151e+05</td>\n",
       "      <td>431.000000</td>\n",
       "      <td>18.000000</td>\n",
       "      <td>0.000000</td>\n",
       "      <td>0.000000</td>\n",
       "      <td>1.000000</td>\n",
       "      <td>0.000000</td>\n",
       "      <td>0.000000</td>\n",
       "      <td>11.580000</td>\n",
       "      <td>0.000000</td>\n",
       "    </tr>\n",
       "    <tr>\n",
       "      <th>25%</th>\n",
       "      <td>3749.750000</td>\n",
       "      <td>1.563435e+07</td>\n",
       "      <td>602.000000</td>\n",
       "      <td>32.000000</td>\n",
       "      <td>3.000000</td>\n",
       "      <td>0.000000</td>\n",
       "      <td>1.000000</td>\n",
       "      <td>1.000000</td>\n",
       "      <td>0.000000</td>\n",
       "      <td>82644.332500</td>\n",
       "      <td>0.000000</td>\n",
       "    </tr>\n",
       "    <tr>\n",
       "      <th>50%</th>\n",
       "      <td>7499.500000</td>\n",
       "      <td>1.568947e+07</td>\n",
       "      <td>661.000000</td>\n",
       "      <td>37.000000</td>\n",
       "      <td>5.000000</td>\n",
       "      <td>0.000000</td>\n",
       "      <td>2.000000</td>\n",
       "      <td>1.000000</td>\n",
       "      <td>0.000000</td>\n",
       "      <td>122449.420000</td>\n",
       "      <td>0.000000</td>\n",
       "    </tr>\n",
       "    <tr>\n",
       "      <th>75%</th>\n",
       "      <td>11249.250000</td>\n",
       "      <td>1.575682e+07</td>\n",
       "      <td>707.000000</td>\n",
       "      <td>42.000000</td>\n",
       "      <td>7.000000</td>\n",
       "      <td>109636.342500</td>\n",
       "      <td>2.000000</td>\n",
       "      <td>1.000000</td>\n",
       "      <td>1.000000</td>\n",
       "      <td>155703.022500</td>\n",
       "      <td>0.000000</td>\n",
       "    </tr>\n",
       "    <tr>\n",
       "      <th>max</th>\n",
       "      <td>14999.000000</td>\n",
       "      <td>1.569172e+09</td>\n",
       "      <td>850.000000</td>\n",
       "      <td>72.000000</td>\n",
       "      <td>10.000000</td>\n",
       "      <td>187911.550000</td>\n",
       "      <td>5.000000</td>\n",
       "      <td>1.000000</td>\n",
       "      <td>1.000000</td>\n",
       "      <td>885120.790000</td>\n",
       "      <td>1.000000</td>\n",
       "    </tr>\n",
       "  </tbody>\n",
       "</table>\n",
       "</div>"
      ],
      "text/plain": [
       "                 id    CustomerId   CreditScore           Age        Tenure  \\\n",
       "count  15000.000000  1.500000e+04  15000.000000  15000.000000  15000.000000   \n",
       "mean    7499.500000  1.579454e+07    657.856800     37.710133      5.018667   \n",
       "std     4330.271354  1.268495e+07     72.678739      8.144880      2.787407   \n",
       "min        0.000000  1.567151e+05    431.000000     18.000000      0.000000   \n",
       "25%     3749.750000  1.563435e+07    602.000000     32.000000      3.000000   \n",
       "50%     7499.500000  1.568947e+07    661.000000     37.000000      5.000000   \n",
       "75%    11249.250000  1.575682e+07    707.000000     42.000000      7.000000   \n",
       "max    14999.000000  1.569172e+09    850.000000     72.000000     10.000000   \n",
       "\n",
       "             Balance  NumOfProducts     HasCrCard  IsActiveMember  \\\n",
       "count   15000.000000   15000.000000  15000.000000    15000.000000   \n",
       "mean    42338.107539       1.590533      0.779133        0.496000   \n",
       "std     59703.047751       0.525822      0.414845        0.500001   \n",
       "min         0.000000       1.000000      0.000000        0.000000   \n",
       "25%         0.000000       1.000000      1.000000        0.000000   \n",
       "50%         0.000000       2.000000      1.000000        0.000000   \n",
       "75%    109636.342500       2.000000      1.000000        1.000000   \n",
       "max    187911.550000       5.000000      1.000000        1.000000   \n",
       "\n",
       "       EstimatedSalary        Exited  \n",
       "count     15000.000000  15000.000000  \n",
       "mean     116944.059867      0.198467  \n",
       "std       46047.485455      0.398859  \n",
       "min          11.580000      0.000000  \n",
       "25%       82644.332500      0.000000  \n",
       "50%      122449.420000      0.000000  \n",
       "75%      155703.022500      0.000000  \n",
       "max      885120.790000      1.000000  "
      ]
     },
     "execution_count": 7,
     "metadata": {},
     "output_type": "execute_result"
    }
   ],
   "source": [
    "df.describe()\n"
   ]
  },
  {
   "cell_type": "code",
   "execution_count": 8,
   "id": "9d48c3c4",
   "metadata": {
    "execution": {
     "iopub.execute_input": "2025-04-30T08:41:06.085672Z",
     "iopub.status.busy": "2025-04-30T08:41:06.085449Z",
     "iopub.status.idle": "2025-04-30T08:41:06.105115Z",
     "shell.execute_reply": "2025-04-30T08:41:06.104532Z"
    },
    "papermill": {
     "duration": 0.026576,
     "end_time": "2025-04-30T08:41:06.106173",
     "exception": false,
     "start_time": "2025-04-30T08:41:06.079597",
     "status": "completed"
    },
    "tags": []
   },
   "outputs": [
    {
     "data": {
      "text/html": [
       "<div>\n",
       "<style scoped>\n",
       "    .dataframe tbody tr th:only-of-type {\n",
       "        vertical-align: middle;\n",
       "    }\n",
       "\n",
       "    .dataframe tbody tr th {\n",
       "        vertical-align: top;\n",
       "    }\n",
       "\n",
       "    .dataframe thead th {\n",
       "        text-align: right;\n",
       "    }\n",
       "</style>\n",
       "<table border=\"1\" class=\"dataframe\">\n",
       "  <thead>\n",
       "    <tr style=\"text-align: right;\">\n",
       "      <th></th>\n",
       "      <th>id</th>\n",
       "      <th>CustomerId</th>\n",
       "      <th>CreditScore</th>\n",
       "      <th>Age</th>\n",
       "      <th>Tenure</th>\n",
       "      <th>Balance</th>\n",
       "      <th>NumOfProducts</th>\n",
       "      <th>HasCrCard</th>\n",
       "      <th>IsActiveMember</th>\n",
       "      <th>EstimatedSalary</th>\n",
       "      <th>Exited</th>\n",
       "    </tr>\n",
       "  </thead>\n",
       "  <tbody>\n",
       "    <tr>\n",
       "      <th>id</th>\n",
       "      <td>1.000000</td>\n",
       "      <td>-0.013143</td>\n",
       "      <td>0.002450</td>\n",
       "      <td>0.008301</td>\n",
       "      <td>0.010274</td>\n",
       "      <td>0.002993</td>\n",
       "      <td>-0.003234</td>\n",
       "      <td>0.007082</td>\n",
       "      <td>0.012198</td>\n",
       "      <td>0.006161</td>\n",
       "      <td>-0.015533</td>\n",
       "    </tr>\n",
       "    <tr>\n",
       "      <th>CustomerId</th>\n",
       "      <td>-0.013143</td>\n",
       "      <td>1.000000</td>\n",
       "      <td>0.014209</td>\n",
       "      <td>-0.001726</td>\n",
       "      <td>-0.005906</td>\n",
       "      <td>-0.005943</td>\n",
       "      <td>0.006489</td>\n",
       "      <td>-0.015185</td>\n",
       "      <td>0.008342</td>\n",
       "      <td>-0.005803</td>\n",
       "      <td>-0.004122</td>\n",
       "    </tr>\n",
       "    <tr>\n",
       "      <th>CreditScore</th>\n",
       "      <td>0.002450</td>\n",
       "      <td>0.014209</td>\n",
       "      <td>1.000000</td>\n",
       "      <td>-0.010207</td>\n",
       "      <td>0.005782</td>\n",
       "      <td>0.011393</td>\n",
       "      <td>0.009826</td>\n",
       "      <td>0.000844</td>\n",
       "      <td>0.015396</td>\n",
       "      <td>0.015829</td>\n",
       "      <td>-0.052375</td>\n",
       "    </tr>\n",
       "    <tr>\n",
       "      <th>Age</th>\n",
       "      <td>0.008301</td>\n",
       "      <td>-0.001726</td>\n",
       "      <td>-0.010207</td>\n",
       "      <td>1.000000</td>\n",
       "      <td>-0.012750</td>\n",
       "      <td>0.090285</td>\n",
       "      <td>-0.169409</td>\n",
       "      <td>-0.007544</td>\n",
       "      <td>-0.026430</td>\n",
       "      <td>0.004344</td>\n",
       "      <td>0.449425</td>\n",
       "    </tr>\n",
       "    <tr>\n",
       "      <th>Tenure</th>\n",
       "      <td>0.010274</td>\n",
       "      <td>-0.005906</td>\n",
       "      <td>0.005782</td>\n",
       "      <td>-0.012750</td>\n",
       "      <td>1.000000</td>\n",
       "      <td>-0.014872</td>\n",
       "      <td>0.016087</td>\n",
       "      <td>0.021382</td>\n",
       "      <td>-0.010231</td>\n",
       "      <td>0.008884</td>\n",
       "      <td>-0.032897</td>\n",
       "    </tr>\n",
       "    <tr>\n",
       "      <th>Balance</th>\n",
       "      <td>0.002993</td>\n",
       "      <td>-0.005943</td>\n",
       "      <td>0.011393</td>\n",
       "      <td>0.090285</td>\n",
       "      <td>-0.014872</td>\n",
       "      <td>1.000000</td>\n",
       "      <td>-0.423496</td>\n",
       "      <td>-0.018996</td>\n",
       "      <td>-0.021580</td>\n",
       "      <td>-0.003853</td>\n",
       "      <td>0.160062</td>\n",
       "    </tr>\n",
       "    <tr>\n",
       "      <th>NumOfProducts</th>\n",
       "      <td>-0.003234</td>\n",
       "      <td>0.006489</td>\n",
       "      <td>0.009826</td>\n",
       "      <td>-0.169409</td>\n",
       "      <td>0.016087</td>\n",
       "      <td>-0.423496</td>\n",
       "      <td>1.000000</td>\n",
       "      <td>-0.001089</td>\n",
       "      <td>0.047784</td>\n",
       "      <td>0.002612</td>\n",
       "      <td>-0.312812</td>\n",
       "    </tr>\n",
       "    <tr>\n",
       "      <th>HasCrCard</th>\n",
       "      <td>0.007082</td>\n",
       "      <td>-0.015185</td>\n",
       "      <td>0.000844</td>\n",
       "      <td>-0.007544</td>\n",
       "      <td>0.021382</td>\n",
       "      <td>-0.018996</td>\n",
       "      <td>-0.001089</td>\n",
       "      <td>1.000000</td>\n",
       "      <td>-0.026277</td>\n",
       "      <td>-0.012787</td>\n",
       "      <td>-0.010670</td>\n",
       "    </tr>\n",
       "    <tr>\n",
       "      <th>IsActiveMember</th>\n",
       "      <td>0.012198</td>\n",
       "      <td>0.008342</td>\n",
       "      <td>0.015396</td>\n",
       "      <td>-0.026430</td>\n",
       "      <td>-0.010231</td>\n",
       "      <td>-0.021580</td>\n",
       "      <td>0.047784</td>\n",
       "      <td>-0.026277</td>\n",
       "      <td>1.000000</td>\n",
       "      <td>0.003154</td>\n",
       "      <td>-0.188748</td>\n",
       "    </tr>\n",
       "    <tr>\n",
       "      <th>EstimatedSalary</th>\n",
       "      <td>0.006161</td>\n",
       "      <td>-0.005803</td>\n",
       "      <td>0.015829</td>\n",
       "      <td>0.004344</td>\n",
       "      <td>0.008884</td>\n",
       "      <td>-0.003853</td>\n",
       "      <td>0.002612</td>\n",
       "      <td>-0.012787</td>\n",
       "      <td>0.003154</td>\n",
       "      <td>1.000000</td>\n",
       "      <td>0.035193</td>\n",
       "    </tr>\n",
       "    <tr>\n",
       "      <th>Exited</th>\n",
       "      <td>-0.015533</td>\n",
       "      <td>-0.004122</td>\n",
       "      <td>-0.052375</td>\n",
       "      <td>0.449425</td>\n",
       "      <td>-0.032897</td>\n",
       "      <td>0.160062</td>\n",
       "      <td>-0.312812</td>\n",
       "      <td>-0.010670</td>\n",
       "      <td>-0.188748</td>\n",
       "      <td>0.035193</td>\n",
       "      <td>1.000000</td>\n",
       "    </tr>\n",
       "  </tbody>\n",
       "</table>\n",
       "</div>"
      ],
      "text/plain": [
       "                       id  CustomerId  CreditScore       Age    Tenure  \\\n",
       "id               1.000000   -0.013143     0.002450  0.008301  0.010274   \n",
       "CustomerId      -0.013143    1.000000     0.014209 -0.001726 -0.005906   \n",
       "CreditScore      0.002450    0.014209     1.000000 -0.010207  0.005782   \n",
       "Age              0.008301   -0.001726    -0.010207  1.000000 -0.012750   \n",
       "Tenure           0.010274   -0.005906     0.005782 -0.012750  1.000000   \n",
       "Balance          0.002993   -0.005943     0.011393  0.090285 -0.014872   \n",
       "NumOfProducts   -0.003234    0.006489     0.009826 -0.169409  0.016087   \n",
       "HasCrCard        0.007082   -0.015185     0.000844 -0.007544  0.021382   \n",
       "IsActiveMember   0.012198    0.008342     0.015396 -0.026430 -0.010231   \n",
       "EstimatedSalary  0.006161   -0.005803     0.015829  0.004344  0.008884   \n",
       "Exited          -0.015533   -0.004122    -0.052375  0.449425 -0.032897   \n",
       "\n",
       "                  Balance  NumOfProducts  HasCrCard  IsActiveMember  \\\n",
       "id               0.002993      -0.003234   0.007082        0.012198   \n",
       "CustomerId      -0.005943       0.006489  -0.015185        0.008342   \n",
       "CreditScore      0.011393       0.009826   0.000844        0.015396   \n",
       "Age              0.090285      -0.169409  -0.007544       -0.026430   \n",
       "Tenure          -0.014872       0.016087   0.021382       -0.010231   \n",
       "Balance          1.000000      -0.423496  -0.018996       -0.021580   \n",
       "NumOfProducts   -0.423496       1.000000  -0.001089        0.047784   \n",
       "HasCrCard       -0.018996      -0.001089   1.000000       -0.026277   \n",
       "IsActiveMember  -0.021580       0.047784  -0.026277        1.000000   \n",
       "EstimatedSalary -0.003853       0.002612  -0.012787        0.003154   \n",
       "Exited           0.160062      -0.312812  -0.010670       -0.188748   \n",
       "\n",
       "                 EstimatedSalary    Exited  \n",
       "id                      0.006161 -0.015533  \n",
       "CustomerId             -0.005803 -0.004122  \n",
       "CreditScore             0.015829 -0.052375  \n",
       "Age                     0.004344  0.449425  \n",
       "Tenure                  0.008884 -0.032897  \n",
       "Balance                -0.003853  0.160062  \n",
       "NumOfProducts           0.002612 -0.312812  \n",
       "HasCrCard              -0.012787 -0.010670  \n",
       "IsActiveMember          0.003154 -0.188748  \n",
       "EstimatedSalary         1.000000  0.035193  \n",
       "Exited                  0.035193  1.000000  "
      ]
     },
     "execution_count": 8,
     "metadata": {},
     "output_type": "execute_result"
    }
   ],
   "source": [
    "df.corr(numeric_only=True)"
   ]
  },
  {
   "cell_type": "markdown",
   "id": "eb15c6e0",
   "metadata": {
    "papermill": {
     "duration": 0.00523,
     "end_time": "2025-04-30T08:41:06.116794",
     "exception": false,
     "start_time": "2025-04-30T08:41:06.111564",
     "status": "completed"
    },
    "tags": []
   },
   "source": [
    "# Data Cleaning"
   ]
  },
  {
   "cell_type": "code",
   "execution_count": 9,
   "id": "b28f5746",
   "metadata": {
    "execution": {
     "iopub.execute_input": "2025-04-30T08:41:06.128697Z",
     "iopub.status.busy": "2025-04-30T08:41:06.128502Z",
     "iopub.status.idle": "2025-04-30T08:41:06.143037Z",
     "shell.execute_reply": "2025-04-30T08:41:06.142312Z"
    },
    "papermill": {
     "duration": 0.02191,
     "end_time": "2025-04-30T08:41:06.144232",
     "exception": false,
     "start_time": "2025-04-30T08:41:06.122322",
     "status": "completed"
    },
    "tags": []
   },
   "outputs": [
    {
     "data": {
      "text/html": [
       "<div>\n",
       "<style scoped>\n",
       "    .dataframe tbody tr th:only-of-type {\n",
       "        vertical-align: middle;\n",
       "    }\n",
       "\n",
       "    .dataframe tbody tr th {\n",
       "        vertical-align: top;\n",
       "    }\n",
       "\n",
       "    .dataframe thead th {\n",
       "        text-align: right;\n",
       "    }\n",
       "</style>\n",
       "<table border=\"1\" class=\"dataframe\">\n",
       "  <thead>\n",
       "    <tr style=\"text-align: right;\">\n",
       "      <th></th>\n",
       "      <th>CreditScore</th>\n",
       "      <th>Geography</th>\n",
       "      <th>Gender</th>\n",
       "      <th>Age</th>\n",
       "      <th>Tenure</th>\n",
       "      <th>Balance</th>\n",
       "      <th>NumOfProducts</th>\n",
       "      <th>HasCrCard</th>\n",
       "      <th>IsActiveMember</th>\n",
       "      <th>EstimatedSalary</th>\n",
       "      <th>Exited</th>\n",
       "    </tr>\n",
       "  </thead>\n",
       "  <tbody>\n",
       "    <tr>\n",
       "      <th>0</th>\n",
       "      <td>567.0</td>\n",
       "      <td>France</td>\n",
       "      <td>Male</td>\n",
       "      <td>33.0</td>\n",
       "      <td>9.0</td>\n",
       "      <td>0.0</td>\n",
       "      <td>2.0</td>\n",
       "      <td>1.0</td>\n",
       "      <td>0.0</td>\n",
       "      <td>156792.89</td>\n",
       "      <td>0.0</td>\n",
       "    </tr>\n",
       "    <tr>\n",
       "      <th>1</th>\n",
       "      <td>628.0</td>\n",
       "      <td>France</td>\n",
       "      <td>Female</td>\n",
       "      <td>38.0</td>\n",
       "      <td>3.0</td>\n",
       "      <td>0.0</td>\n",
       "      <td>1.0</td>\n",
       "      <td>1.0</td>\n",
       "      <td>1.0</td>\n",
       "      <td>51987.99</td>\n",
       "      <td>1.0</td>\n",
       "    </tr>\n",
       "    <tr>\n",
       "      <th>2</th>\n",
       "      <td>635.0</td>\n",
       "      <td>France</td>\n",
       "      <td>Female</td>\n",
       "      <td>29.0</td>\n",
       "      <td>3.0</td>\n",
       "      <td>0.0</td>\n",
       "      <td>2.0</td>\n",
       "      <td>1.0</td>\n",
       "      <td>1.0</td>\n",
       "      <td>113079.19</td>\n",
       "      <td>0.0</td>\n",
       "    </tr>\n",
       "    <tr>\n",
       "      <th>3</th>\n",
       "      <td>681.0</td>\n",
       "      <td>France</td>\n",
       "      <td>Male</td>\n",
       "      <td>28.0</td>\n",
       "      <td>6.0</td>\n",
       "      <td>0.0</td>\n",
       "      <td>2.0</td>\n",
       "      <td>1.0</td>\n",
       "      <td>0.0</td>\n",
       "      <td>14081.64</td>\n",
       "      <td>0.0</td>\n",
       "    </tr>\n",
       "    <tr>\n",
       "      <th>4</th>\n",
       "      <td>587.0</td>\n",
       "      <td>France</td>\n",
       "      <td>Female</td>\n",
       "      <td>27.0</td>\n",
       "      <td>5.0</td>\n",
       "      <td>0.0</td>\n",
       "      <td>2.0</td>\n",
       "      <td>1.0</td>\n",
       "      <td>0.0</td>\n",
       "      <td>158958.90</td>\n",
       "      <td>0.0</td>\n",
       "    </tr>\n",
       "  </tbody>\n",
       "</table>\n",
       "</div>"
      ],
      "text/plain": [
       "   CreditScore Geography  Gender   Age  Tenure  Balance  NumOfProducts  \\\n",
       "0        567.0    France    Male  33.0     9.0      0.0            2.0   \n",
       "1        628.0    France  Female  38.0     3.0      0.0            1.0   \n",
       "2        635.0    France  Female  29.0     3.0      0.0            2.0   \n",
       "3        681.0    France    Male  28.0     6.0      0.0            2.0   \n",
       "4        587.0    France  Female  27.0     5.0      0.0            2.0   \n",
       "\n",
       "   HasCrCard  IsActiveMember  EstimatedSalary  Exited  \n",
       "0        1.0             0.0        156792.89     0.0  \n",
       "1        1.0             1.0         51987.99     1.0  \n",
       "2        1.0             1.0        113079.19     0.0  \n",
       "3        1.0             0.0         14081.64     0.0  \n",
       "4        1.0             0.0        158958.90     0.0  "
      ]
     },
     "execution_count": 9,
     "metadata": {},
     "output_type": "execute_result"
    }
   ],
   "source": [
    "# keraksiz ustunlarni olib tashlaymiz\n",
    "df = df.drop(columns=['id', 'CustomerId', 'Surname'])\n",
    "df.head()"
   ]
  },
  {
   "cell_type": "markdown",
   "id": "50139aea",
   "metadata": {
    "papermill": {
     "duration": 0.006189,
     "end_time": "2025-04-30T08:41:06.157218",
     "exception": false,
     "start_time": "2025-04-30T08:41:06.151029",
     "status": "completed"
    },
    "tags": []
   },
   "source": [
    "# Visual Data Analysis\n"
   ]
  },
  {
   "cell_type": "code",
   "execution_count": 10,
   "id": "2aaac070",
   "metadata": {
    "execution": {
     "iopub.execute_input": "2025-04-30T08:41:06.170473Z",
     "iopub.status.busy": "2025-04-30T08:41:06.170272Z",
     "iopub.status.idle": "2025-04-30T08:41:06.471582Z",
     "shell.execute_reply": "2025-04-30T08:41:06.470908Z"
    },
    "papermill": {
     "duration": 0.309484,
     "end_time": "2025-04-30T08:41:06.472971",
     "exception": false,
     "start_time": "2025-04-30T08:41:06.163487",
     "status": "completed"
    },
    "tags": []
   },
   "outputs": [
    {
     "data": {
      "image/png": "[encoded data removed]",
      "text/plain": [
       "<Figure size 700x700 with 1 Axes>"
      ]
     },
     "metadata": {},
     "output_type": "display_data"
    },
    {
     "data": {
      "image/png": "[encoded data removed]",
      "text/plain": [
       "<Figure size 640x480 with 1 Axes>"
      ]
     },
     "metadata": {},
     "output_type": "display_data"
    }
   ],
   "source": [
    "# class distribution\n",
    "clss_dis = df['Exited'].value_counts()/len(df)*100\n",
    "\n",
    "#plotting\n",
    "plt.figure(figsize=(7,7))\n",
    "plt.pie(clss_dis, labels=clss_dis.index, autopct='%1.2f%%')\n",
    "\n",
    "plt.title('Class Distribution')\n",
    "plt.show()\n",
    "\n",
    "sns.countplot(x='Exited', data=df)\n",
    "plt.title('Class Distribution')\n",
    "plt.show()"
   ]
  },
  {
   "cell_type": "code",
   "execution_count": 11,
   "id": "cd113bfb",
   "metadata": {
    "execution": {
     "iopub.execute_input": "2025-04-30T08:41:06.488986Z",
     "iopub.status.busy": "2025-04-30T08:41:06.488727Z",
     "iopub.status.idle": "2025-04-30T08:41:07.599848Z",
     "shell.execute_reply": "2025-04-30T08:41:07.599207Z"
    },
    "papermill": {
     "duration": 1.120797,
     "end_time": "2025-04-30T08:41:07.601696",
     "exception": false,
     "start_time": "2025-04-30T08:41:06.480899",
     "status": "completed"
    },
    "tags": []
   },
   "outputs": [
    {
     "name": "stderr",
     "output_type": "stream",
     "text": [
      "/usr/local/lib/python3.11/dist-packages/seaborn/_oldcore.py:1119: FutureWarning: use_inf_as_na option is deprecated and will be removed in a future version. Convert inf values to NaN before operating instead.\n",
      "  with pd.option_context('mode.use_inf_as_na', True):\n",
      "/usr/local/lib/python3.11/dist-packages/seaborn/_oldcore.py:1075: FutureWarning: When grouping with a length-1 list-like, you will need to pass a length-1 tuple to get_group in a future version of pandas. Pass `(name,)` instead of `name` to silence this warning.\n",
      "  data_subset = grouped_data.get_group(pd_key)\n",
      "/usr/local/lib/python3.11/dist-packages/seaborn/_oldcore.py:1075: FutureWarning: When grouping with a length-1 list-like, you will need to pass a length-1 tuple to get_group in a future version of pandas. Pass `(name,)` instead of `name` to silence this warning.\n",
      "  data_subset = grouped_data.get_group(pd_key)\n",
      "/usr/local/lib/python3.11/dist-packages/seaborn/_oldcore.py:1075: FutureWarning: When grouping with a length-1 list-like, you will need to pass a length-1 tuple to get_group in a future version of pandas. Pass `(name,)` instead of `name` to silence this warning.\n",
      "  data_subset = grouped_data.get_group(pd_key)\n",
      "/usr/local/lib/python3.11/dist-packages/seaborn/_oldcore.py:1119: FutureWarning: use_inf_as_na option is deprecated and will be removed in a future version. Convert inf values to NaN before operating instead.\n",
      "  with pd.option_context('mode.use_inf_as_na', True):\n",
      "/usr/local/lib/python3.11/dist-packages/seaborn/_oldcore.py:1075: FutureWarning: When grouping with a length-1 list-like, you will need to pass a length-1 tuple to get_group in a future version of pandas. Pass `(name,)` instead of `name` to silence this warning.\n",
      "  data_subset = grouped_data.get_group(pd_key)\n",
      "/usr/local/lib/python3.11/dist-packages/seaborn/_oldcore.py:1075: FutureWarning: When grouping with a length-1 list-like, you will need to pass a length-1 tuple to get_group in a future version of pandas. Pass `(name,)` instead of `name` to silence this warning.\n",
      "  data_subset = grouped_data.get_group(pd_key)\n",
      "/usr/local/lib/python3.11/dist-packages/seaborn/_oldcore.py:1075: FutureWarning: When grouping with a length-1 list-like, you will need to pass a length-1 tuple to get_group in a future version of pandas. Pass `(name,)` instead of `name` to silence this warning.\n",
      "  data_subset = grouped_data.get_group(pd_key)\n",
      "/usr/local/lib/python3.11/dist-packages/seaborn/_oldcore.py:1119: FutureWarning: use_inf_as_na option is deprecated and will be removed in a future version. Convert inf values to NaN before operating instead.\n",
      "  with pd.option_context('mode.use_inf_as_na', True):\n",
      "/usr/local/lib/python3.11/dist-packages/seaborn/_oldcore.py:1075: FutureWarning: When grouping with a length-1 list-like, you will need to pass a length-1 tuple to get_group in a future version of pandas. Pass `(name,)` instead of `name` to silence this warning.\n",
      "  data_subset = grouped_data.get_group(pd_key)\n",
      "/usr/local/lib/python3.11/dist-packages/seaborn/_oldcore.py:1075: FutureWarning: When grouping with a length-1 list-like, you will need to pass a length-1 tuple to get_group in a future version of pandas. Pass `(name,)` instead of `name` to silence this warning.\n",
      "  data_subset = grouped_data.get_group(pd_key)\n",
      "/usr/local/lib/python3.11/dist-packages/seaborn/_oldcore.py:1075: FutureWarning: When grouping with a length-1 list-like, you will need to pass a length-1 tuple to get_group in a future version of pandas. Pass `(name,)` instead of `name` to silence this warning.\n",
      "  data_subset = grouped_data.get_group(pd_key)\n"
     ]
    },
    {
     "data": {
      "image/png": "[encoded data removed]",
      "text/plain": [
       "<Figure size 2000x1000 with 4 Axes>"
      ]
     },
     "metadata": {},
     "output_type": "display_data"
    }
   ],
   "source": [
    "fig, ax = plt.subplots(2, 2, figsize=(20, 10))\n",
    "sns.histplot(x='CreditScore', bins=30, data=df, hue='Exited', ax=ax[0, 0])\n",
    "sns.histplot(x='Balance', data=df, bins=30, hue='Exited', ax=ax[0, 1])\n",
    "sns.histplot(x='EstimatedSalary', bins=60, data=df, hue='Exited', ax=ax[1, 0])\n",
    "\n",
    "sns.countplot(x='Tenure', data=df, hue='Exited', ax=ax[1, 1])\n",
    "\n",
    "plt.tight_layout()\n",
    "plt.show()"
   ]
  },
  {
   "cell_type": "code",
   "execution_count": 12,
   "id": "f0f56abc",
   "metadata": {
    "execution": {
     "iopub.execute_input": "2025-04-30T08:41:07.618351Z",
     "iopub.status.busy": "2025-04-30T08:41:07.618122Z",
     "iopub.status.idle": "2025-04-30T08:41:07.909482Z",
     "shell.execute_reply": "2025-04-30T08:41:07.908796Z"
    },
    "papermill": {
     "duration": 0.300848,
     "end_time": "2025-04-30T08:41:07.910815",
     "exception": false,
     "start_time": "2025-04-30T08:41:07.609967",
     "status": "completed"
    },
    "tags": []
   },
   "outputs": [
    {
     "name": "stderr",
     "output_type": "stream",
     "text": [
      "/usr/local/lib/python3.11/dist-packages/seaborn/_oldcore.py:1119: FutureWarning: use_inf_as_na option is deprecated and will be removed in a future version. Convert inf values to NaN before operating instead.\n",
      "  with pd.option_context('mode.use_inf_as_na', True):\n",
      "/usr/local/lib/python3.11/dist-packages/seaborn/_oldcore.py:1075: FutureWarning: When grouping with a length-1 list-like, you will need to pass a length-1 tuple to get_group in a future version of pandas. Pass `(name,)` instead of `name` to silence this warning.\n",
      "  data_subset = grouped_data.get_group(pd_key)\n",
      "/usr/local/lib/python3.11/dist-packages/seaborn/_oldcore.py:1075: FutureWarning: When grouping with a length-1 list-like, you will need to pass a length-1 tuple to get_group in a future version of pandas. Pass `(name,)` instead of `name` to silence this warning.\n",
      "  data_subset = grouped_data.get_group(pd_key)\n",
      "/usr/local/lib/python3.11/dist-packages/seaborn/_oldcore.py:1075: FutureWarning: When grouping with a length-1 list-like, you will need to pass a length-1 tuple to get_group in a future version of pandas. Pass `(name,)` instead of `name` to silence this warning.\n",
      "  data_subset = grouped_data.get_group(pd_key)\n"
     ]
    },
    {
     "data": {
      "image/png": "[encoded data removed]",
      "text/plain": [
       "<Figure size 640x480 with 1 Axes>"
      ]
     },
     "metadata": {},
     "output_type": "display_data"
    }
   ],
   "source": [
    "sns.histplot(x='Age', bins=50, data=df, hue='Exited')\n",
    "plt.show()"
   ]
  },
  {
   "cell_type": "code",
   "execution_count": 13,
   "id": "5da719a3",
   "metadata": {
    "execution": {
     "iopub.execute_input": "2025-04-30T08:41:07.930315Z",
     "iopub.status.busy": "2025-04-30T08:41:07.930074Z",
     "iopub.status.idle": "2025-04-30T08:41:08.238455Z",
     "shell.execute_reply": "2025-04-30T08:41:08.237708Z"
    },
    "papermill": {
     "duration": 0.31917,
     "end_time": "2025-04-30T08:41:08.239556",
     "exception": false,
     "start_time": "2025-04-30T08:41:07.920386",
     "status": "completed"
    },
    "tags": []
   },
   "outputs": [
    {
     "data": {
      "image/png": "[encoded data removed]",
      "text/plain": [
       "<Figure size 2000x1000 with 2 Axes>"
      ]
     },
     "metadata": {},
     "output_type": "display_data"
    }
   ],
   "source": [
    "fig, ax = plt.subplots(1, 2, figsize=(20, 10))\n",
    "sns.countplot(x='Gender', hue='Exited', data=df, ax=ax[0])\n",
    "sns.countplot(x='Geography', hue='Exited', data=df, ax=ax[1])\n",
    "plt.show()"
   ]
  },
  {
   "cell_type": "markdown",
   "id": "9eb1c268",
   "metadata": {
    "papermill": {
     "duration": 0.009483,
     "end_time": "2025-04-30T08:41:08.259310",
     "exception": false,
     "start_time": "2025-04-30T08:41:08.249827",
     "status": "completed"
    },
    "tags": []
   },
   "source": [
    "# Data Preprocessing\n"
   ]
  },
  {
   "cell_type": "code",
   "execution_count": 14,
   "id": "07d76c2e",
   "metadata": {
    "execution": {
     "iopub.execute_input": "2025-04-30T08:41:08.279328Z",
     "iopub.status.busy": "2025-04-30T08:41:08.279046Z",
     "iopub.status.idle": "2025-04-30T08:41:08.282701Z",
     "shell.execute_reply": "2025-04-30T08:41:08.282171Z"
    },
    "papermill": {
     "duration": 0.015083,
     "end_time": "2025-04-30T08:41:08.283893",
     "exception": false,
     "start_time": "2025-04-30T08:41:08.268810",
     "status": "completed"
    },
    "tags": []
   },
   "outputs": [],
   "source": [
    "# Kategoriyali va raqamli ustunlarni ajratish\n",
    " \n",
    "categorical_columns = ['Gender', 'Geography'] \n",
    "numerical_columns = ['CreditScore', 'Age', 'Tenure', 'Balance', 'NumOfProducts', 'HasCrCard', 'IsActiveMember', 'EstimatedSalary'] \n",
    "target = 'Exited' "
   ]
  },
  {
   "cell_type": "code",
   "execution_count": 15,
   "id": "a19d6bd3",
   "metadata": {
    "execution": {
     "iopub.execute_input": "2025-04-30T08:41:08.303620Z",
     "iopub.status.busy": "2025-04-30T08:41:08.303393Z",
     "iopub.status.idle": "2025-04-30T08:41:08.308595Z",
     "shell.execute_reply": "2025-04-30T08:41:08.307804Z"
    },
    "papermill": {
     "duration": 0.01647,
     "end_time": "2025-04-30T08:41:08.309906",
     "exception": false,
     "start_time": "2025-04-30T08:41:08.293436",
     "status": "completed"
    },
    "tags": []
   },
   "outputs": [],
   "source": [
    "X = df[categorical_columns + numerical_columns]\n",
    "y = df[target]"
   ]
  },
  {
   "cell_type": "code",
   "execution_count": 16,
   "id": "4ad77b80",
   "metadata": {
    "execution": {
     "iopub.execute_input": "2025-04-30T08:41:08.329639Z",
     "iopub.status.busy": "2025-04-30T08:41:08.329414Z",
     "iopub.status.idle": "2025-04-30T08:41:08.341488Z",
     "shell.execute_reply": "2025-04-30T08:41:08.340653Z"
    },
    "papermill": {
     "duration": 0.02342,
     "end_time": "2025-04-30T08:41:08.342725",
     "exception": false,
     "start_time": "2025-04-30T08:41:08.319305",
     "status": "completed"
    },
    "tags": []
   },
   "outputs": [],
   "source": [
    "# Ma'lumotlarni o‘qitish va test to‘plamlariga bo‘lish\n",
    "X_train, X_test, y_train, y_test = train_test_split(X, y, test_size=0.2, random_state=42, stratify=y)"
   ]
  },
  {
   "cell_type": "markdown",
   "id": "a2eb3a47",
   "metadata": {
    "papermill": {
     "duration": 0.008834,
     "end_time": "2025-04-30T08:41:08.360969",
     "exception": false,
     "start_time": "2025-04-30T08:41:08.352135",
     "status": "completed"
    },
    "tags": []
   },
   "source": [
    "# Modelling"
   ]
  },
  {
   "cell_type": "code",
   "execution_count": 17,
   "id": "bd787f70",
   "metadata": {
    "execution": {
     "iopub.execute_input": "2025-04-30T08:41:08.379111Z",
     "iopub.status.busy": "2025-04-30T08:41:08.378922Z",
     "iopub.status.idle": "2025-04-30T08:41:08.384640Z",
     "shell.execute_reply": "2025-04-30T08:41:08.384166Z"
    },
    "papermill": {
     "duration": 0.015792,
     "end_time": "2025-04-30T08:41:08.385687",
     "exception": false,
     "start_time": "2025-04-30T08:41:08.369895",
     "status": "completed"
    },
    "tags": []
   },
   "outputs": [],
   "source": [
    "# CatBoostClassifier modelini yaratish\n",
    "model = CatBoostClassifier(\n",
    "    iterations=1000,              \n",
    "    learning_rate=0.05,           \n",
    "    depth=6,                     \n",
    "    l2_leaf_reg=3,                \n",
    "    auto_class_weights='Balanced',   \n",
    "    cat_features=categorical_columns,   \n",
    "    eval_metric='AUC',            \n",
    "    early_stopping_rounds=50,     \n",
    "    task_type='GPU',              \n",
    "    verbose=100,                  \n",
    "    random_seed=42               \n",
    ")"
   ]
  },
  {
   "cell_type": "code",
   "execution_count": 18,
   "id": "7ed825da",
   "metadata": {
    "execution": {
     "iopub.execute_input": "2025-04-30T08:41:08.403587Z",
     "iopub.status.busy": "2025-04-30T08:41:08.403403Z",
     "iopub.status.idle": "2025-04-30T08:41:15.508736Z",
     "shell.execute_reply": "2025-04-30T08:41:15.507531Z"
    },
    "papermill": {
     "duration": 7.118062,
     "end_time": "2025-04-30T08:41:15.512353",
     "exception": false,
     "start_time": "2025-04-30T08:41:08.394291",
     "status": "completed"
    },
    "tags": []
   },
   "outputs": [
    {
     "name": "stderr",
     "output_type": "stream",
     "text": [
      "Default metric period is 5 because AUC is/are not implemented for GPU\n"
     ]
    },
    {
     "name": "stdout",
     "output_type": "stream",
     "text": [
      "0:\ttest: 0.9036894\tbest: 0.9036894 (0)\ttotal: 180ms\tremaining: 3m\n",
      "100:\ttest: 0.9334129\tbest: 0.9334129 (100)\ttotal: 3.57s\tremaining: 31.8s\n",
      "bestTest = 0.9339820743\n",
      "bestIteration = 136\n",
      "Shrink model to first 137 iterations.\n"
     ]
    },
    {
     "data": {
      "text/plain": [
       "<catboost.core.CatBoostClassifier at 0x7c076b1d2050>"
      ]
     },
     "execution_count": 18,
     "metadata": {},
     "output_type": "execute_result"
    }
   ],
   "source": [
    "# Modelni o‘qitish\n",
    "model.fit(\n",
    "    X_train, y_train,\n",
    "    eval_set=(X_test, y_test),    \n",
    "    use_best_model=True         \n",
    ")"
   ]
  },
  {
   "cell_type": "code",
   "execution_count": 19,
   "id": "0bf55963",
   "metadata": {
    "execution": {
     "iopub.execute_input": "2025-04-30T08:41:15.555007Z",
     "iopub.status.busy": "2025-04-30T08:41:15.554587Z",
     "iopub.status.idle": "2025-04-30T08:41:15.572041Z",
     "shell.execute_reply": "2025-04-30T08:41:15.571377Z"
    },
    "papermill": {
     "duration": 0.040983,
     "end_time": "2025-04-30T08:41:15.573367",
     "exception": false,
     "start_time": "2025-04-30T08:41:15.532384",
     "status": "completed"
    },
    "tags": []
   },
   "outputs": [],
   "source": [
    "# Bashorat qilish\n",
    "y_pred = model.predict(X_test)\n",
    "y_pred_proba = model.predict_proba(X_test)[:, 1]"
   ]
  },
  {
   "cell_type": "code",
   "execution_count": 20,
   "id": "76e28ce0",
   "metadata": {
    "execution": {
     "iopub.execute_input": "2025-04-30T08:41:15.605718Z",
     "iopub.status.busy": "2025-04-30T08:41:15.605000Z",
     "iopub.status.idle": "2025-04-30T08:41:15.643240Z",
     "shell.execute_reply": "2025-04-30T08:41:15.642516Z"
    },
    "papermill": {
     "duration": 0.057517,
     "end_time": "2025-04-30T08:41:15.646115",
     "exception": false,
     "start_time": "2025-04-30T08:41:15.588598",
     "status": "completed"
    },
    "tags": []
   },
   "outputs": [
    {
     "name": "stdout",
     "output_type": "stream",
     "text": [
      "AUC Skori: 0.9339820751585457\n",
      "Aniqlik (Accuracy): 0.8566666666666667\n",
      "\n",
      "Baholash hisoboti:\n",
      "               precision    recall  f1-score   support\n",
      "\n",
      "         0.0       0.96      0.85      0.91      2405\n",
      "         1.0       0.59      0.87      0.71       595\n",
      "\n",
      "    accuracy                           0.86      3000\n",
      "   macro avg       0.78      0.86      0.81      3000\n",
      "weighted avg       0.89      0.86      0.87      3000\n",
      "\n"
     ]
    }
   ],
   "source": [
    "# 7. Natijalarni baholash\n",
    "print(\"AUC Skori:\", roc_auc_score(y_test, y_pred_proba))\n",
    "print(\"Aniqlik (Accuracy):\", accuracy_score(y_test, y_pred))\n",
    "print(\"\\nBaholash hisoboti:\\n\", classification_report(y_test, y_pred))"
   ]
  },
  {
   "cell_type": "code",
   "execution_count": 21,
   "id": "b7351bc7",
   "metadata": {
    "execution": {
     "iopub.execute_input": "2025-04-30T08:41:15.682358Z",
     "iopub.status.busy": "2025-04-30T08:41:15.680922Z",
     "iopub.status.idle": "2025-04-30T08:41:16.282481Z",
     "shell.execute_reply": "2025-04-30T08:41:16.281588Z"
    },
    "papermill": {
     "duration": 0.621545,
     "end_time": "2025-04-30T08:41:16.284480",
     "exception": false,
     "start_time": "2025-04-30T08:41:15.662935",
     "status": "completed"
    },
    "tags": []
   },
   "outputs": [
    {
     "data": {
      "image/png": "[encoded data removed]",
      "text/plain": [
       "<Figure size 640x480 with 2 Axes>"
      ]
     },
     "metadata": {},
     "output_type": "display_data"
    },
    {
     "data": {
      "image/png": "[encoded data removed]",
      "text/plain": [
       "<Figure size 640x480 with 1 Axes>"
      ]
     },
     "metadata": {},
     "output_type": "display_data"
    }
   ],
   "source": [
    "# confusion_matrix\n",
    "cm = confusion_matrix(y_test, y_pred)\n",
    "sns.heatmap(cm, annot=True, fmt='d')\n",
    "plt.show()\n",
    "\n",
    "# ROC curve\n",
    "\n",
    "fpr, tpr, thresholds = metrics.roc_curve(y_test, y_pred_proba)\n",
    "roc_auc = metrics.auc(fpr, tpr)\n",
    "display = metrics.RocCurveDisplay(fpr=fpr, tpr=tpr, roc_auc=roc_auc, estimator_name='ROC curve')\n",
    "display.plot()\n",
    "plt.show()"
   ]
  },
  {
   "cell_type": "code",
   "execution_count": 22,
   "id": "d32b6a63",
   "metadata": {
    "execution": {
     "iopub.execute_input": "2025-04-30T08:41:16.390386Z",
     "iopub.status.busy": "2025-04-30T08:41:16.390035Z",
     "iopub.status.idle": "2025-04-30T08:41:16.403246Z",
     "shell.execute_reply": "2025-04-30T08:41:16.402447Z"
    },
    "papermill": {
     "duration": 0.035915,
     "end_time": "2025-04-30T08:41:16.405005",
     "exception": false,
     "start_time": "2025-04-30T08:41:16.369090",
     "status": "completed"
    },
    "tags": []
   },
   "outputs": [
    {
     "name": "stdout",
     "output_type": "stream",
     "text": [
      "\n",
      "Xususiyatlarning ahamiyati:\n",
      "            Feature  Importance\n",
      "6    NumOfProducts   45.965991\n",
      "3              Age   24.056933\n",
      "8   IsActiveMember    7.585653\n",
      "5          Balance    7.216023\n",
      "1        Geography    6.698680\n",
      "0           Gender    3.661384\n",
      "2      CreditScore    2.026854\n",
      "9  EstimatedSalary    1.687300\n",
      "4           Tenure    1.040145\n",
      "7        HasCrCard    0.061036\n"
     ]
    }
   ],
   "source": [
    "# Eng muhim xususiyatlarni chiqarish\n",
    "feature_importance = pd.DataFrame({\n",
    "    'Feature': X.columns,\n",
    "    'Importance': model.get_feature_importance()\n",
    "}).sort_values(by='Importance', ascending=False)\n",
    "print(\"\\nXususiyatlarning ahamiyati:\\n\", feature_importance)"
   ]
  },
  {
   "cell_type": "markdown",
   "id": "4a57627f",
   "metadata": {
    "papermill": {
     "duration": 0.020234,
     "end_time": "2025-04-30T08:41:16.445685",
     "exception": false,
     "start_time": "2025-04-30T08:41:16.425451",
     "status": "completed"
    },
    "tags": []
   },
   "source": [
    "# Test_set and Submission"
   ]
  },
  {
   "cell_type": "code",
   "execution_count": 23,
   "id": "cfa2568a",
   "metadata": {
    "execution": {
     "iopub.execute_input": "2025-04-30T08:41:16.476424Z",
     "iopub.status.busy": "2025-04-30T08:41:16.476136Z",
     "iopub.status.idle": "2025-04-30T08:41:16.516519Z",
     "shell.execute_reply": "2025-04-30T08:41:16.515640Z"
    },
    "papermill": {
     "duration": 0.055012,
     "end_time": "2025-04-30T08:41:16.518020",
     "exception": false,
     "start_time": "2025-04-30T08:41:16.463008",
     "status": "completed"
    },
    "tags": []
   },
   "outputs": [
    {
     "data": {
      "text/html": [
       "<div>\n",
       "<style scoped>\n",
       "    .dataframe tbody tr th:only-of-type {\n",
       "        vertical-align: middle;\n",
       "    }\n",
       "\n",
       "    .dataframe tbody tr th {\n",
       "        vertical-align: top;\n",
       "    }\n",
       "\n",
       "    .dataframe thead th {\n",
       "        text-align: right;\n",
       "    }\n",
       "</style>\n",
       "<table border=\"1\" class=\"dataframe\">\n",
       "  <thead>\n",
       "    <tr style=\"text-align: right;\">\n",
       "      <th></th>\n",
       "      <th>id</th>\n",
       "      <th>CustomerId</th>\n",
       "      <th>Surname</th>\n",
       "      <th>CreditScore</th>\n",
       "      <th>Geography</th>\n",
       "      <th>Gender</th>\n",
       "      <th>Age</th>\n",
       "      <th>Tenure</th>\n",
       "      <th>Balance</th>\n",
       "      <th>NumOfProducts</th>\n",
       "      <th>HasCrCard</th>\n",
       "      <th>IsActiveMember</th>\n",
       "      <th>EstimatedSalary</th>\n",
       "    </tr>\n",
       "  </thead>\n",
       "  <tbody>\n",
       "    <tr>\n",
       "      <th>0</th>\n",
       "      <td>15000</td>\n",
       "      <td>15732563.0</td>\n",
       "      <td>Hs?</td>\n",
       "      <td>707.0</td>\n",
       "      <td>Germany</td>\n",
       "      <td>Male</td>\n",
       "      <td>21.0</td>\n",
       "      <td>4.0</td>\n",
       "      <td>114513.66</td>\n",
       "      <td>2.0</td>\n",
       "      <td>1.0</td>\n",
       "      <td>0.0</td>\n",
       "      <td>176692.87</td>\n",
       "    </tr>\n",
       "    <tr>\n",
       "      <th>1</th>\n",
       "      <td>15001</td>\n",
       "      <td>15727041.0</td>\n",
       "      <td>Ma</td>\n",
       "      <td>678.0</td>\n",
       "      <td>Germany</td>\n",
       "      <td>Male</td>\n",
       "      <td>33.0</td>\n",
       "      <td>5.0</td>\n",
       "      <td>142510.50</td>\n",
       "      <td>1.0</td>\n",
       "      <td>0.0</td>\n",
       "      <td>0.0</td>\n",
       "      <td>52820.13</td>\n",
       "    </tr>\n",
       "    <tr>\n",
       "      <th>2</th>\n",
       "      <td>15002</td>\n",
       "      <td>15753679.0</td>\n",
       "      <td>K?</td>\n",
       "      <td>636.0</td>\n",
       "      <td>Spain</td>\n",
       "      <td>Male</td>\n",
       "      <td>45.0</td>\n",
       "      <td>9.0</td>\n",
       "      <td>0.00</td>\n",
       "      <td>2.0</td>\n",
       "      <td>1.0</td>\n",
       "      <td>1.0</td>\n",
       "      <td>125062.02</td>\n",
       "    </tr>\n",
       "    <tr>\n",
       "      <th>3</th>\n",
       "      <td>15003</td>\n",
       "      <td>15581554.0</td>\n",
       "      <td>H?</td>\n",
       "      <td>697.0</td>\n",
       "      <td>Spain</td>\n",
       "      <td>Male</td>\n",
       "      <td>46.0</td>\n",
       "      <td>8.0</td>\n",
       "      <td>0.00</td>\n",
       "      <td>2.0</td>\n",
       "      <td>1.0</td>\n",
       "      <td>0.0</td>\n",
       "      <td>131647.41</td>\n",
       "    </tr>\n",
       "    <tr>\n",
       "      <th>4</th>\n",
       "      <td>15004</td>\n",
       "      <td>15773723.0</td>\n",
       "      <td>Bellucci</td>\n",
       "      <td>553.0</td>\n",
       "      <td>Spain</td>\n",
       "      <td>Male</td>\n",
       "      <td>31.0</td>\n",
       "      <td>2.0</td>\n",
       "      <td>0.00</td>\n",
       "      <td>2.0</td>\n",
       "      <td>1.0</td>\n",
       "      <td>0.0</td>\n",
       "      <td>58814.41</td>\n",
       "    </tr>\n",
       "  </tbody>\n",
       "</table>\n",
       "</div>"
      ],
      "text/plain": [
       "      id  CustomerId   Surname  CreditScore Geography Gender   Age  Tenure  \\\n",
       "0  15000  15732563.0       Hs?        707.0   Germany   Male  21.0     4.0   \n",
       "1  15001  15727041.0        Ma        678.0   Germany   Male  33.0     5.0   \n",
       "2  15002  15753679.0        K?        636.0     Spain   Male  45.0     9.0   \n",
       "3  15003  15581554.0        H?        697.0     Spain   Male  46.0     8.0   \n",
       "4  15004  15773723.0  Bellucci        553.0     Spain   Male  31.0     2.0   \n",
       "\n",
       "     Balance  NumOfProducts  HasCrCard  IsActiveMember  EstimatedSalary  \n",
       "0  114513.66            2.0        1.0             0.0        176692.87  \n",
       "1  142510.50            1.0        0.0             0.0         52820.13  \n",
       "2       0.00            2.0        1.0             1.0        125062.02  \n",
       "3       0.00            2.0        1.0             0.0        131647.41  \n",
       "4       0.00            2.0        1.0             0.0         58814.41  "
      ]
     },
     "execution_count": 23,
     "metadata": {},
     "output_type": "execute_result"
    }
   ],
   "source": [
    "df1 = pd.read_csv(\"/kaggle/input/binaryclassificationwithabankchurndataset/test.csv\")\n",
    "df1.head()"
   ]
  },
  {
   "cell_type": "code",
   "execution_count": 24,
   "id": "18616c0f",
   "metadata": {
    "execution": {
     "iopub.execute_input": "2025-04-30T08:41:16.542744Z",
     "iopub.status.busy": "2025-04-30T08:41:16.542486Z",
     "iopub.status.idle": "2025-04-30T08:41:16.548540Z",
     "shell.execute_reply": "2025-04-30T08:41:16.547681Z"
    },
    "papermill": {
     "duration": 0.019962,
     "end_time": "2025-04-30T08:41:16.549992",
     "exception": false,
     "start_time": "2025-04-30T08:41:16.530030",
     "status": "completed"
    },
    "tags": []
   },
   "outputs": [
    {
     "data": {
      "text/plain": [
       "0    15000\n",
       "1    15001\n",
       "2    15002\n",
       "3    15003\n",
       "4    15004\n",
       "Name: id, dtype: int64"
      ]
     },
     "execution_count": 24,
     "metadata": {},
     "output_type": "execute_result"
    }
   ],
   "source": [
    "# id ustunini saqlab qo'yish\n",
    "t_ids = df1['id']\n",
    "t_ids.head()"
   ]
  },
  {
   "cell_type": "code",
   "execution_count": 25,
   "id": "e7e9d28d",
   "metadata": {
    "execution": {
     "iopub.execute_input": "2025-04-30T08:41:16.575462Z",
     "iopub.status.busy": "2025-04-30T08:41:16.575244Z",
     "iopub.status.idle": "2025-04-30T08:41:16.589498Z",
     "shell.execute_reply": "2025-04-30T08:41:16.588792Z"
    },
    "papermill": {
     "duration": 0.027825,
     "end_time": "2025-04-30T08:41:16.590705",
     "exception": false,
     "start_time": "2025-04-30T08:41:16.562880",
     "status": "completed"
    },
    "tags": []
   },
   "outputs": [
    {
     "data": {
      "text/html": [
       "<div>\n",
       "<style scoped>\n",
       "    .dataframe tbody tr th:only-of-type {\n",
       "        vertical-align: middle;\n",
       "    }\n",
       "\n",
       "    .dataframe tbody tr th {\n",
       "        vertical-align: top;\n",
       "    }\n",
       "\n",
       "    .dataframe thead th {\n",
       "        text-align: right;\n",
       "    }\n",
       "</style>\n",
       "<table border=\"1\" class=\"dataframe\">\n",
       "  <thead>\n",
       "    <tr style=\"text-align: right;\">\n",
       "      <th></th>\n",
       "      <th>CreditScore</th>\n",
       "      <th>Geography</th>\n",
       "      <th>Gender</th>\n",
       "      <th>Age</th>\n",
       "      <th>Tenure</th>\n",
       "      <th>Balance</th>\n",
       "      <th>NumOfProducts</th>\n",
       "      <th>HasCrCard</th>\n",
       "      <th>IsActiveMember</th>\n",
       "      <th>EstimatedSalary</th>\n",
       "    </tr>\n",
       "  </thead>\n",
       "  <tbody>\n",
       "    <tr>\n",
       "      <th>0</th>\n",
       "      <td>707.0</td>\n",
       "      <td>Germany</td>\n",
       "      <td>Male</td>\n",
       "      <td>21.0</td>\n",
       "      <td>4.0</td>\n",
       "      <td>114513.66</td>\n",
       "      <td>2.0</td>\n",
       "      <td>1.0</td>\n",
       "      <td>0.0</td>\n",
       "      <td>176692.87</td>\n",
       "    </tr>\n",
       "    <tr>\n",
       "      <th>1</th>\n",
       "      <td>678.0</td>\n",
       "      <td>Germany</td>\n",
       "      <td>Male</td>\n",
       "      <td>33.0</td>\n",
       "      <td>5.0</td>\n",
       "      <td>142510.50</td>\n",
       "      <td>1.0</td>\n",
       "      <td>0.0</td>\n",
       "      <td>0.0</td>\n",
       "      <td>52820.13</td>\n",
       "    </tr>\n",
       "    <tr>\n",
       "      <th>2</th>\n",
       "      <td>636.0</td>\n",
       "      <td>Spain</td>\n",
       "      <td>Male</td>\n",
       "      <td>45.0</td>\n",
       "      <td>9.0</td>\n",
       "      <td>0.00</td>\n",
       "      <td>2.0</td>\n",
       "      <td>1.0</td>\n",
       "      <td>1.0</td>\n",
       "      <td>125062.02</td>\n",
       "    </tr>\n",
       "    <tr>\n",
       "      <th>3</th>\n",
       "      <td>697.0</td>\n",
       "      <td>Spain</td>\n",
       "      <td>Male</td>\n",
       "      <td>46.0</td>\n",
       "      <td>8.0</td>\n",
       "      <td>0.00</td>\n",
       "      <td>2.0</td>\n",
       "      <td>1.0</td>\n",
       "      <td>0.0</td>\n",
       "      <td>131647.41</td>\n",
       "    </tr>\n",
       "    <tr>\n",
       "      <th>4</th>\n",
       "      <td>553.0</td>\n",
       "      <td>Spain</td>\n",
       "      <td>Male</td>\n",
       "      <td>31.0</td>\n",
       "      <td>2.0</td>\n",
       "      <td>0.00</td>\n",
       "      <td>2.0</td>\n",
       "      <td>1.0</td>\n",
       "      <td>0.0</td>\n",
       "      <td>58814.41</td>\n",
       "    </tr>\n",
       "  </tbody>\n",
       "</table>\n",
       "</div>"
      ],
      "text/plain": [
       "   CreditScore Geography Gender   Age  Tenure    Balance  NumOfProducts  \\\n",
       "0        707.0   Germany   Male  21.0     4.0  114513.66            2.0   \n",
       "1        678.0   Germany   Male  33.0     5.0  142510.50            1.0   \n",
       "2        636.0     Spain   Male  45.0     9.0       0.00            2.0   \n",
       "3        697.0     Spain   Male  46.0     8.0       0.00            2.0   \n",
       "4        553.0     Spain   Male  31.0     2.0       0.00            2.0   \n",
       "\n",
       "   HasCrCard  IsActiveMember  EstimatedSalary  \n",
       "0        1.0             0.0        176692.87  \n",
       "1        0.0             0.0         52820.13  \n",
       "2        1.0             1.0        125062.02  \n",
       "3        1.0             0.0        131647.41  \n",
       "4        1.0             0.0         58814.41  "
      ]
     },
     "execution_count": 25,
     "metadata": {},
     "output_type": "execute_result"
    }
   ],
   "source": [
    "# keraksiz ustunlarni olib tashlaymiz\n",
    "df1 = df1.drop(columns=['id', 'CustomerId', 'Surname'])\n",
    "df1.head()"
   ]
  },
  {
   "cell_type": "code",
   "execution_count": 26,
   "id": "788ccd38",
   "metadata": {
    "execution": {
     "iopub.execute_input": "2025-04-30T08:41:16.614054Z",
     "iopub.status.busy": "2025-04-30T08:41:16.613422Z",
     "iopub.status.idle": "2025-04-30T08:41:16.617560Z",
     "shell.execute_reply": "2025-04-30T08:41:16.616793Z"
    },
    "papermill": {
     "duration": 0.016671,
     "end_time": "2025-04-30T08:41:16.618646",
     "exception": false,
     "start_time": "2025-04-30T08:41:16.601975",
     "status": "completed"
    },
    "tags": []
   },
   "outputs": [],
   "source": [
    "categorical_columns = ['Gender', 'Geography'] \n",
    "numerical_columns = ['CreditScore', 'Age', 'Tenure', 'Balance', 'NumOfProducts', 'HasCrCard', 'IsActiveMember', 'EstimatedSalary']"
   ]
  },
  {
   "cell_type": "code",
   "execution_count": 27,
   "id": "ad9179e4",
   "metadata": {
    "execution": {
     "iopub.execute_input": "2025-04-30T08:41:16.641302Z",
     "iopub.status.busy": "2025-04-30T08:41:16.640836Z",
     "iopub.status.idle": "2025-04-30T08:41:16.645813Z",
     "shell.execute_reply": "2025-04-30T08:41:16.645081Z"
    },
    "papermill": {
     "duration": 0.017973,
     "end_time": "2025-04-30T08:41:16.647315",
     "exception": false,
     "start_time": "2025-04-30T08:41:16.629342",
     "status": "completed"
    },
    "tags": []
   },
   "outputs": [],
   "source": [
    "X = df1[categorical_columns + numerical_columns]"
   ]
  },
  {
   "cell_type": "code",
   "execution_count": 28,
   "id": "43a563be",
   "metadata": {
    "execution": {
     "iopub.execute_input": "2025-04-30T08:41:16.679181Z",
     "iopub.status.busy": "2025-04-30T08:41:16.678983Z",
     "iopub.status.idle": "2025-04-30T08:41:16.698237Z",
     "shell.execute_reply": "2025-04-30T08:41:16.697623Z"
    },
    "papermill": {
     "duration": 0.032372,
     "end_time": "2025-04-30T08:41:16.699342",
     "exception": false,
     "start_time": "2025-04-30T08:41:16.666970",
     "status": "completed"
    },
    "tags": []
   },
   "outputs": [],
   "source": [
    "y_prediction = model.predict(X)  \n",
    "y_prediction_proba = model.predict_proba(X)[:, 1] "
   ]
  },
  {
   "cell_type": "code",
   "execution_count": 29,
   "id": "c8c8aabe",
   "metadata": {
    "execution": {
     "iopub.execute_input": "2025-04-30T08:41:16.721132Z",
     "iopub.status.busy": "2025-04-30T08:41:16.720944Z",
     "iopub.status.idle": "2025-04-30T08:41:16.725527Z",
     "shell.execute_reply": "2025-04-30T08:41:16.724919Z"
    },
    "papermill": {
     "duration": 0.016777,
     "end_time": "2025-04-30T08:41:16.726683",
     "exception": false,
     "start_time": "2025-04-30T08:41:16.709906",
     "status": "completed"
    },
    "tags": []
   },
   "outputs": [
    {
     "data": {
      "text/plain": [
       "array([0.11347342, 0.45974046, 0.16662782, ..., 0.99705614, 0.02038934,\n",
       "       0.53164225])"
      ]
     },
     "execution_count": 29,
     "metadata": {},
     "output_type": "execute_result"
    }
   ],
   "source": [
    "y_prediction_proba"
   ]
  },
  {
   "cell_type": "code",
   "execution_count": 30,
   "id": "90a623a9",
   "metadata": {
    "execution": {
     "iopub.execute_input": "2025-04-30T08:41:16.748431Z",
     "iopub.status.busy": "2025-04-30T08:41:16.748233Z",
     "iopub.status.idle": "2025-04-30T08:41:16.778539Z",
     "shell.execute_reply": "2025-04-30T08:41:16.777830Z"
    },
    "papermill": {
     "duration": 0.042346,
     "end_time": "2025-04-30T08:41:16.779576",
     "exception": false,
     "start_time": "2025-04-30T08:41:16.737230",
     "status": "completed"
    },
    "tags": []
   },
   "outputs": [
    {
     "name": "stdout",
     "output_type": "stream",
     "text": [
      "Submission fayli tayyor: submission.csv\n"
     ]
    }
   ],
   "source": [
    "# Submission DataFrame yaratish\n",
    "submission = pd.DataFrame({\n",
    "    'id': t_ids,\n",
    "    'Exited': y_prediction_proba\n",
    "})\n",
    "\n",
    "# CSV faylga saqlash\n",
    "submission.to_csv('submission.csv', index=False)\n",
    "print(\"Submission fayli tayyor: submission.csv\")"
   ]
  },
  {
   "cell_type": "code",
   "execution_count": null,
   "id": "20df4b85",
   "metadata": {
    "papermill": {
     "duration": 0.009724,
     "end_time": "2025-04-30T08:41:16.799412",
     "exception": false,
     "start_time": "2025-04-30T08:41:16.789688",
     "status": "completed"
    },
    "tags": []
   },
   "outputs": [],
   "source": []
  }
 ],
 "metadata": {
  "kaggle": {
   "accelerator": "nvidiaTeslaT4",
   "dataSources": [
    {
     "databundleVersionId": 9625621,
     "sourceId": 85304,
     "sourceType": "competition"
    }
   ],
   "dockerImageVersionId": 31012,
   "isGpuEnabled": true,
   "isInternetEnabled": true,
   "language": "python",
   "sourceType": "notebook"
  },
  "kernelspec": {
   "display_name": "Python 3",
   "language": "python",
   "name": "python3"
  },
  "language_info": {
   "codemirror_mode": {
    "name": "ipython",
    "version": 3
   },
   "file_extension": ".py",
   "mimetype": "text/x-python",
   "name": "python",
   "nbconvert_exporter": "python",
   "pygments_lexer": "ipython3",
   "version": "3.11.11"
  },
  "papermill": {
   "default_parameters": {},
   "duration": 23.083179,
   "end_time": "2025-04-30T08:41:17.427188",
   "environment_variables": {},
   "exception": null,
   "input_path": "__notebook__.ipynb",
   "output_path": "__notebook__.ipynb",
   "parameters": {},
   "start_time": "2025-04-30T08:40:54.344009",
   "version": "2.6.0"
  }
 },
 "nbformat": 4,
 "nbformat_minor": 5
}
